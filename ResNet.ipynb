{
  "nbformat": 4,
  "nbformat_minor": 0,
  "metadata": {
    "colab": {
      "name": "ResNet.ipynb",
      "provenance": []
    },
    "kernelspec": {
      "name": "python3",
      "display_name": "Python 3"
    }
  },
  "cells": [
    {
      "cell_type": "code",
      "metadata": {
        "id": "DzS2YVC48qKc"
      },
      "source": [
        "try:\r\n",
        "    %tensorflow_version 2.x\r\n",
        "except Exception:\r\n",
        "    pass"
      ],
      "execution_count": 1,
      "outputs": []
    },
    {
      "cell_type": "code",
      "metadata": {
        "id": "3a7OAImHCfDQ"
      },
      "source": [
        "import tensorflow as tf\r\n",
        "from tensorflow.keras.layers import Conv2D, Dense, Input\r\n",
        "from tensorflow.keras.models import Model\r\n",
        "from tensorflow.nn import relu, softmax\r\n",
        "from tensorflow.python.keras.utils.vis_utils import plot_model"
      ],
      "execution_count": 4,
      "outputs": []
    },
    {
      "cell_type": "code",
      "metadata": {
        "id": "4KjuV9eOGoW_"
      },
      "source": [
        ""
      ],
      "execution_count": null,
      "outputs": []
    }
  ]
}