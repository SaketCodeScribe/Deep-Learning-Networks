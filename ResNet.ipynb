{
  "nbformat": 4,
  "nbformat_minor": 0,
  "metadata": {
    "colab": {
      "name": "ResNet.ipynb",
      "provenance": []
    },
    "kernelspec": {
      "name": "python3",
      "display_name": "Python 3"
    },
    "accelerator": "GPU"
  },
  "cells": [
    {
      "cell_type": "code",
      "metadata": {
        "id": "DzS2YVC48qKc"
      },
      "source": [
        "try:\r\n",
        "    %tensorflow_version 2.x\r\n",
        "except Exception:\r\n",
        "    pass"
      ],
      "execution_count": 1,
      "outputs": []
    },
    {
      "cell_type": "code",
      "metadata": {
        "id": "3a7OAImHCfDQ"
      },
      "source": [
        "import tensorflow as tf\r\n",
        "from tensorflow.keras.layers import Conv2D, Dense, Input, BatchNormalization, Activation, Add, MaxPool2D, AveragePooling2D, Flatten, ZeroPadding2D\r\n",
        "from tensorflow.keras.models import Model\r\n",
        "from tensorflow.python.keras.utils.vis_utils import plot_model\r\n",
        "import tensorflow_datasets as tfds"
      ],
      "execution_count": 2,
      "outputs": []
    },
    {
      "cell_type": "code",
      "metadata": {
        "id": "4KjuV9eOGoW_"
      },
      "source": [
        "class IdentityBlock(Model):\r\n",
        "    def __init__(self, filters=None, activation=None, kernel_size=None):\r\n",
        "        super(IdentityBlock , self ).__init__(name  ='')\r\n",
        "        self.conv1 = Conv2D(filters, kernel_size, padding='same')\r\n",
        "        self.bn = BatchNormalization()\r\n",
        "        self.act = Activation(activation)\r\n",
        "        self.add = Add()\r\n",
        "    def call(self, input):\r\n",
        "        x = self.conv1(input)\r\n",
        "        x = self.bn(x)\r\n",
        "        x = self.act(x)\r\n",
        "\r\n",
        "        x = self.conv1(x)\r\n",
        "        x = self.bn(x)\r\n",
        "        \r\n",
        "        x = self.add([x, input])\r\n",
        "        \r\n",
        "        x = self.act(x)\r\n",
        "\r\n",
        "        return x"
      ],
      "execution_count": 3,
      "outputs": []
    },
    {
      "cell_type": "code",
      "metadata": {
        "id": "F6e2w7emJbRq"
      },
      "source": [
        "class DownSamplingBlock(Model):\r\n",
        "    def __init__(self, filters=None, activation=None, kernel_size=None, stride=None):\r\n",
        "        super(DownSamplingBlock, self).__init__()\r\n",
        "        self.conv1 = Conv2D(filters, kernel_size, strides=stride)\r\n",
        "        self.bn = BatchNormalization()\r\n",
        "        self.conv2 = Conv2D(filters, kernel_size, padding='same')\r\n",
        "        self.conv3 = Conv2D(filters, 3, strides=stride)\r\n",
        "        self.act = Activation(activation)\r\n",
        "        self.add = Add()\r\n",
        "        self.pad = ZeroPadding2D()\r\n",
        "    def call(self, input):\r\n",
        "        # print(\"-----\")\r\n",
        "        # print(input.shape)\r\n",
        "        x_skip = input\r\n",
        "        x = self.conv1(input)\r\n",
        "        x = self.bn(x)\r\n",
        "        x = self.act(x)\r\n",
        "\r\n",
        "        x = self.conv2(x)\r\n",
        "        x = self.bn(x)\r\n",
        "\r\n",
        "        x_skip = self.conv3(x_skip)\r\n",
        "        # print(x.shape, x_skip)\r\n",
        "        x = self.add([x, x_skip])\r\n",
        "        \r\n",
        "        x = self.act(x)\r\n",
        "\r\n",
        "        return x"
      ],
      "execution_count": 4,
      "outputs": []
    },
    {
      "cell_type": "code",
      "metadata": {
        "id": "ib0Q6EZhjllQ"
      },
      "source": [
        "class ResNet(Model):\r\n",
        "    def __init__(self, units=None, kernel_size=None, filters=None, stride=None, activation=None, num_classes=None):\r\n",
        "        super(ResNet, self).__init__()\r\n",
        "        self.conv1 = Conv2D(filters, kernel_size, strides=stride)\r\n",
        "        self.bn = BatchNormalization()\r\n",
        "        self.act = Activation(activation)\r\n",
        "        self.pool1 = MaxPool2D(pool_size=(3, 3), strides=stride)\r\n",
        "        self.id1 = IdentityBlock(64, activation, 3)\r\n",
        "        self.ds1 = DownSamplingBlock(128, activation, 3, stride)\r\n",
        "        self.id2 = IdentityBlock(128, activation, 3)\r\n",
        "        self.ds2 = DownSamplingBlock(256, activation, 3, stride)\r\n",
        "        self.id3 = IdentityBlock(256, activation, 3)\r\n",
        "        self.ds3 = DownSamplingBlock(512, activation, 3, stride)\r\n",
        "        self.id4 = IdentityBlock(512, activation, 3)\r\n",
        "        self.pool2 = AveragePooling2D()\r\n",
        "        self.dense1 = Flatten()\r\n",
        "        self.dense2 = Dense(units, activation=activation)\r\n",
        "        self.dense3 = Dense(num_classes, activation='softmax')\r\n",
        "    def call(self, input):\r\n",
        "        # print(input.shape)\r\n",
        "        x = self.conv1(input)\r\n",
        "        \r\n",
        "        # print(x.shape)\r\n",
        "        x = self.bn(x)\r\n",
        "        x = self.act(x)\r\n",
        "        x = self.pool1(x)\r\n",
        "        # print(x.shape)\r\n",
        "        for _ in range(3):\r\n",
        "            x = self.id1(x)\r\n",
        "        \r\n",
        "        # print(x.shape)\r\n",
        "        x = self.ds1(x)\r\n",
        "        \r\n",
        "        # print(x.shape)\r\n",
        "        for _ in range(3):\r\n",
        "            x = self.id2(x)\r\n",
        "        \r\n",
        "        x = self.ds2(x)\r\n",
        "        for _ in range(5):\r\n",
        "            x = self.id3(x)\r\n",
        "        \r\n",
        "        x = self.ds3(x)\r\n",
        "        for _ in range(2):\r\n",
        "            x = self.id4(x)\r\n",
        "        \r\n",
        "        x = self.pool2(x)\r\n",
        "        x = self.dense1(x)\r\n",
        "        x = self.dense2(x)\r\n",
        "        x = self.dense3(x)\r\n",
        "\r\n",
        "        return x"
      ],
      "execution_count": 5,
      "outputs": []
    },
    {
      "cell_type": "code",
      "metadata": {
        "id": "MdTNdG_Ipxlz"
      },
      "source": [
        "resnet = ResNet(1000, 7, 64, (2,2), 'relu', 2)"
      ],
      "execution_count": 6,
      "outputs": []
    },
    {
      "cell_type": "code",
      "metadata": {
        "id": "ZNa1hSYdraHB"
      },
      "source": [
        "resnet.compile(optimizer='adam', loss='sparse_categorical_crossentropy', metrics=['accuracy'])"
      ],
      "execution_count": 7,
      "outputs": []
    },
    {
      "cell_type": "code",
      "metadata": {
        "id": "fcw_gEq9sAxT"
      },
      "source": [
        "def preprocess(f):\r\n",
        "    return tf.cast(f['image'] , 'float32') / 255.0  , f[\"label\"]\r\n",
        "\r\n",
        "dataset = tfds.load('horses_or_humans', split='train')\r\n",
        "# print(dataset)\r\n",
        "dataset = dataset.map(preprocess).batch(32)"
      ],
      "execution_count": 8,
      "outputs": []
    },
    {
      "cell_type": "code",
      "metadata": {
        "id": "CQcDHP5Asssq",
        "outputId": "e0612de0-8da9-4177-b804-92cb1e148d5b",
        "colab": {
          "base_uri": "https://localhost:8080/"
        }
      },
      "source": [
        "history = resnet.fit(dataset , epochs=15)"
      ],
      "execution_count": 9,
      "outputs": [
        {
          "output_type": "stream",
          "text": [
            "Epoch 1/15\n",
            "33/33 [==============================] - 10s 160ms/step - loss: 19.0669 - accuracy: 0.5921\n",
            "Epoch 2/15\n",
            "33/33 [==============================] - 5s 155ms/step - loss: 1.6545 - accuracy: 0.6520\n",
            "Epoch 3/15\n",
            "33/33 [==============================] - 5s 154ms/step - loss: 0.6314 - accuracy: 0.7055\n",
            "Epoch 4/15\n",
            "33/33 [==============================] - 5s 155ms/step - loss: 1.1517 - accuracy: 0.7937\n",
            "Epoch 5/15\n",
            "33/33 [==============================] - 5s 154ms/step - loss: 0.9378 - accuracy: 0.7710\n",
            "Epoch 6/15\n",
            "33/33 [==============================] - 5s 157ms/step - loss: 0.7961 - accuracy: 0.7809\n",
            "Epoch 7/15\n",
            "33/33 [==============================] - 5s 156ms/step - loss: 0.3313 - accuracy: 0.8775\n",
            "Epoch 8/15\n",
            "33/33 [==============================] - 5s 155ms/step - loss: 0.1920 - accuracy: 0.9353\n",
            "Epoch 9/15\n",
            "33/33 [==============================] - 5s 155ms/step - loss: 0.1402 - accuracy: 0.9512\n",
            "Epoch 10/15\n",
            "33/33 [==============================] - 5s 157ms/step - loss: 0.1176 - accuracy: 0.9536\n",
            "Epoch 11/15\n",
            "33/33 [==============================] - 5s 155ms/step - loss: 0.0801 - accuracy: 0.9730\n",
            "Epoch 12/15\n",
            "33/33 [==============================] - 5s 157ms/step - loss: 0.0390 - accuracy: 0.9935\n",
            "Epoch 13/15\n",
            "33/33 [==============================] - 5s 156ms/step - loss: 0.0233 - accuracy: 0.9984\n",
            "Epoch 14/15\n",
            "33/33 [==============================] - 5s 155ms/step - loss: 0.0135 - accuracy: 0.9987\n",
            "Epoch 15/15\n",
            "33/33 [==============================] - 5s 158ms/step - loss: 0.0567 - accuracy: 0.9770\n"
          ],
          "name": "stdout"
        }
      ]
    },
    {
      "cell_type": "code",
      "metadata": {
        "id": "y6C9yir2PaVd",
        "outputId": "4cac699f-9094-422f-cf2e-6a7becc09670",
        "colab": {
          "base_uri": "https://localhost:8080/"
        }
      },
      "source": [
        "resnet.summary()"
      ],
      "execution_count": 10,
      "outputs": [
        {
          "output_type": "stream",
          "text": [
            "Model: \"res_net\"\n",
            "_________________________________________________________________\n",
            "Layer (type)                 Output Shape              Param #   \n",
            "=================================================================\n",
            "conv2d (Conv2D)              multiple                  9472      \n",
            "_________________________________________________________________\n",
            "batch_normalization (BatchNo multiple                  256       \n",
            "_________________________________________________________________\n",
            "activation (Activation)      multiple                  0         \n",
            "_________________________________________________________________\n",
            "max_pooling2d (MaxPooling2D) multiple                  0         \n",
            "_________________________________________________________________\n",
            "identity_block (IdentityBloc multiple                  37184     \n",
            "_________________________________________________________________\n",
            "down_sampling_block (DownSam multiple                  295808    \n",
            "_________________________________________________________________\n",
            "identity_block_1 (IdentityBl multiple                  148096    \n",
            "_________________________________________________________________\n",
            "down_sampling_block_1 (DownS multiple                  1181440   \n",
            "_________________________________________________________________\n",
            "identity_block_2 (IdentityBl multiple                  591104    \n",
            "_________________________________________________________________\n",
            "down_sampling_block_2 (DownS multiple                  4722176   \n",
            "_________________________________________________________________\n",
            "identity_block_3 (IdentityBl multiple                  2361856   \n",
            "_________________________________________________________________\n",
            "average_pooling2d (AveragePo multiple                  0         \n",
            "_________________________________________________________________\n",
            "flatten (Flatten)            multiple                  0         \n",
            "_________________________________________________________________\n",
            "dense (Dense)                multiple                  8193000   \n",
            "_________________________________________________________________\n",
            "dense_1 (Dense)              multiple                  2002      \n",
            "=================================================================\n",
            "Total params: 17,542,394\n",
            "Trainable params: 17,538,554\n",
            "Non-trainable params: 3,840\n",
            "_________________________________________________________________\n"
          ],
          "name": "stdout"
        }
      ]
    }
  ]
}