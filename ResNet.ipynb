{
  "nbformat": 4,
  "nbformat_minor": 0,
  "metadata": {
    "colab": {
      "name": "ResNet.ipynb",
      "provenance": []
    },
    "kernelspec": {
      "name": "python3",
      "display_name": "Python 3"
    }
  },
  "cells": [
    {
      "cell_type": "code",
      "metadata": {
        "id": "DzS2YVC48qKc"
      },
      "source": [
        "try:\r\n",
        "    %tensorflow_version 2.x\r\n",
        "except Exception:\r\n",
        "    pass"
      ],
      "execution_count": 1,
      "outputs": []
    },
    {
      "cell_type": "code",
      "metadata": {
        "id": "3a7OAImHCfDQ"
      },
      "source": [
        "import tensorflow as tf\r\n",
        "from tensorflow.keras.layers import Conv2D, Dense, Input, BatchNormalization, Activation, Add\r\n",
        "from tensorflow.keras.models import Model\r\n",
        "from tensorflow.python.keras.utils.vis_utils import plot_model"
      ],
      "execution_count": 5,
      "outputs": []
    },
    {
      "cell_type": "code",
      "metadata": {
        "id": "4KjuV9eOGoW_"
      },
      "source": [
        "class IdentityBlock(Model):\r\n",
        "    def __intit__(self, filters=None, activation=None, kernel_size=None):\r\n",
        "        super(IdentityBlock, self).__intit__()\r\n",
        "        self.conv = Conv2D(filters, kernel_size, padding='same')\r\n",
        "        self.bn = BatchNormalization()\r\n",
        "        self.act = Activation(activation)\r\n",
        "        self.add = Add()\r\n",
        "    \r\n",
        "    def call(self, input):\r\n",
        "        x = self.conv(input)\r\n",
        "        x = self.bn(x)\r\n",
        "        x = self.act(x)\r\n",
        "\r\n",
        "        x = self.conv(x)\r\n",
        "        x = self.bn(x)\r\n",
        "        \r\n",
        "        x = self.add([x, input])\r\n",
        "        \r\n",
        "        x = self.act(x)\r\n",
        "        return x"
      ],
      "execution_count": 6,
      "outputs": []
    },
    {
      "cell_type": "code",
      "metadata": {
        "id": "OhRYdmd5RQQJ"
      },
      "source": [
        ""
      ],
      "execution_count": null,
      "outputs": []
    }
  ]
}