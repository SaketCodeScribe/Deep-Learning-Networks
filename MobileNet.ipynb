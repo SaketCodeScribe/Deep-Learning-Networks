{
  "nbformat": 4,
  "nbformat_minor": 0,
  "metadata": {
    "colab": {
      "name": "MobileNet.ipynb",
      "provenance": [],
      "authorship_tag": "ABX9TyPlKScCOVK9WqmCHh0shPJ5"
    },
    "kernelspec": {
      "name": "python3",
      "display_name": "Python 3"
    }
  },
  "cells": [
    {
      "cell_type": "code",
      "metadata": {
        "id": "J04T277ouFjd"
      },
      "source": [
        "try:\r\n",
        "    %tensorflow_version 2.x\r\n",
        "except Exception as e:\r\n",
        "    print(e)"
      ],
      "execution_count": 1,
      "outputs": []
    },
    {
      "cell_type": "code",
      "metadata": {
        "id": "gemcZlAawQcK"
      },
      "source": [
        "import tensorflow as tf\r\n",
        "import datetime\r\n",
        "from tensorflow.keras.layers import ZeroPadding2D, AveragePooling2D, MaxPool2D, Conv2D, DepthwiseConv2D, Activation, BatchNormalization, MaxPool2D, Flatten\r\n",
        "from tensorflow.keras.models import Model\r\n",
        "import tensorflow_datasets as tfds"
      ],
      "execution_count": 2,
      "outputs": []
    },
    {
      "cell_type": "code",
      "metadata": {
        "id": "8id3ETAYzYIG"
      },
      "source": [
        "class DepthwiseConvolution(Model):\r\n",
        "    def __init__(self, filters=None, kernel_size=None, strides=None, alpha=1, activation=None):\r\n",
        "        super(DepthwiseConvolution, self).__init__()\r\n",
        "        self.pad = ZeroPadding2D()\r\n",
        "        if strides == (1,1):\r\n",
        "            self.dwconv = DepthwiseConv2D(kernel_size, padding='same')\r\n",
        "        else:\r\n",
        "            self.dwconv = DepthwiseConv2D(kernel_size, strides=strides)\r\n",
        "        self.pwconv = Conv2D(alpha*filters, 1, strides=(1,1))\r\n",
        "        self.bn = BatchNormalization()\r\n",
        "        self.act = Activation(activation)\r\n",
        "    def call(self, input):\r\n",
        "        x = self.pad(input)\r\n",
        "        x = self.dwconv(x)\r\n",
        "        x = self.bn(x)\r\n",
        "        x = self.act(x)\r\n",
        "        x = self.pwconv(x)\r\n",
        "        x = self.bn(x)\r\n",
        "        x = self.act(x)\r\n",
        "        return x"
      ],
      "execution_count": 3,
      "outputs": []
    },
    {
      "cell_type": "code",
      "metadata": {
        "id": "CkoJZlq-8ZIG"
      },
      "source": [
        "class MobileNet(Model):\r\n",
        "    def __init__(self, kernel_size=3, num_classes=None, alpha=1, pho=1):\r\n",
        "        super(MobileNet, self).__init__()\r\n",
        "        self.pad = ZeroPadding2D()\r\n",
        "        self.conv1 = Conv2D(alpha*32, kernel_size, strides=(2,2))\r\n",
        "        self.convdw1 = DepthwiseConvolution(64, 3, (1,1), 1, 'relu')\r\n",
        "        self.convdw2 = DepthwiseConvolution(128, 3, (2,2), 1, 'relu')\r\n",
        "        self.convdw3 = DepthwiseConvolution(128, 3, (1,1), 1, 'relu')\r\n",
        "        self.convdw4 = DepthwiseConvolution(256, 3, (2,2), 1, 'relu')\r\n",
        "        self.convdw5 = DepthwiseConvolution(256, 3, (1,1), 1, 'relu')\r\n",
        "        self.convdw6 = DepthwiseConvolution(512, 3, (2,2), 1, 'relu')\r\n",
        "        self.convdw7 = DepthwiseConvolution(512, 3, (1,1), 1, 'relu')\r\n",
        "        self.convdw8 = DepthwiseConvolution(1024, 3, (2,2), 1, 'relu')\r\n",
        "        self.convdw9 = DepthwiseConvolution(1024, 3, (2,2), 1, 'relu')\r\n",
        "        self.avgpool = AveragePooling2D(pool_size=(7,7), strides=(1,1))\r\n",
        "        self.dense1 = Flatten()\r\n",
        "        self.dense2 = Dense(1000, activation=activation)\r\n",
        "        self.output = Dense(num_classes, activation=activation)\r\n",
        "    def call(self, input):\r\n",
        "        x = self.pad(input)\r\n",
        "        x = self.conv1(x)\r\n",
        "        x = self.convdw1(x)\r\n",
        "        x = self.convdw2(x)\r\n",
        "        x = self.convdw3(x)\r\n",
        "        x = self.convdw4(x)\r\n",
        "        x = self.convdw5(x)\r\n",
        "        x = self.convdw6(x)\r\n",
        "        for _ in range(5):\r\n",
        "            x = self.convdw7(x)\r\n",
        "        x = self.convdw8(x)\r\n",
        "        x = self.convdw9(x)\r\n",
        "        x = self.pooling(x)\r\n",
        "        x = self.dense1(x)\r\n",
        "        x = self.dense2(x)\r\n",
        "        x = self.output(x)\r\n",
        "        return x"
      ],
      "execution_count": 4,
      "outputs": []
    }
  ]
}